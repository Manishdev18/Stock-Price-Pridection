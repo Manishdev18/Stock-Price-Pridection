{
 "cells": [
  {
   "cell_type": "code",
   "execution_count": 30,
   "metadata": {},
   "outputs": [],
   "source": [
    "import numpy as np\n",
    "import pandas as pd\n",
    "import matplotlib.pyplot as plt\n",
    "from sklearn.model_selection import train_test_split"
   ]
  },
  {
   "cell_type": "code",
   "execution_count": 31,
   "metadata": {},
   "outputs": [],
   "source": [
    "df = pd.read_csv(\"BAJFINANCE.csv\",sep=\",\")"
   ]
  },
  {
   "cell_type": "code",
   "execution_count": 32,
   "metadata": {},
   "outputs": [],
   "source": [
    "#setting index as date\n",
    "df['Date'] = pd.to_datetime(df.Date,format='%Y-%m-%d')\n",
    "df.index = df['Date']\n"
   ]
  },
  {
   "cell_type": "code",
   "execution_count": 33,
   "metadata": {},
   "outputs": [
    {
     "data": {
      "text/html": [
       "<div>\n",
       "<style scoped>\n",
       "    .dataframe tbody tr th:only-of-type {\n",
       "        vertical-align: middle;\n",
       "    }\n",
       "\n",
       "    .dataframe tbody tr th {\n",
       "        vertical-align: top;\n",
       "    }\n",
       "\n",
       "    .dataframe thead th {\n",
       "        text-align: right;\n",
       "    }\n",
       "</style>\n",
       "<table border=\"1\" class=\"dataframe\">\n",
       "  <thead>\n",
       "    <tr style=\"text-align: right;\">\n",
       "      <th></th>\n",
       "      <th>Date</th>\n",
       "      <th>Symbol</th>\n",
       "      <th>Series</th>\n",
       "      <th>Prev Close</th>\n",
       "      <th>Open</th>\n",
       "      <th>High</th>\n",
       "      <th>Low</th>\n",
       "      <th>Last</th>\n",
       "      <th>Close</th>\n",
       "      <th>VWAP</th>\n",
       "      <th>Volume</th>\n",
       "      <th>Turnover</th>\n",
       "      <th>Trades</th>\n",
       "      <th>Deliverable Volume</th>\n",
       "      <th>%Deliverble</th>\n",
       "    </tr>\n",
       "    <tr>\n",
       "      <th>Date</th>\n",
       "      <th></th>\n",
       "      <th></th>\n",
       "      <th></th>\n",
       "      <th></th>\n",
       "      <th></th>\n",
       "      <th></th>\n",
       "      <th></th>\n",
       "      <th></th>\n",
       "      <th></th>\n",
       "      <th></th>\n",
       "      <th></th>\n",
       "      <th></th>\n",
       "      <th></th>\n",
       "      <th></th>\n",
       "      <th></th>\n",
       "    </tr>\n",
       "  </thead>\n",
       "  <tbody>\n",
       "    <tr>\n",
       "      <th>2000-01-03</th>\n",
       "      <td>2000-01-03</td>\n",
       "      <td>BAJAUTOFIN</td>\n",
       "      <td>EQ</td>\n",
       "      <td>46.95</td>\n",
       "      <td>49.45</td>\n",
       "      <td>50.75</td>\n",
       "      <td>46.5</td>\n",
       "      <td>50.75</td>\n",
       "      <td>50.75</td>\n",
       "      <td>50.05</td>\n",
       "      <td>7600</td>\n",
       "      <td>3.803800e+10</td>\n",
       "      <td>NaN</td>\n",
       "      <td>NaN</td>\n",
       "      <td>NaN</td>\n",
       "    </tr>\n",
       "    <tr>\n",
       "      <th>2000-01-04</th>\n",
       "      <td>2000-01-04</td>\n",
       "      <td>BAJAUTOFIN</td>\n",
       "      <td>EQ</td>\n",
       "      <td>50.75</td>\n",
       "      <td>53.20</td>\n",
       "      <td>53.20</td>\n",
       "      <td>47.9</td>\n",
       "      <td>48.00</td>\n",
       "      <td>48.10</td>\n",
       "      <td>48.56</td>\n",
       "      <td>5000</td>\n",
       "      <td>2.428000e+10</td>\n",
       "      <td>NaN</td>\n",
       "      <td>NaN</td>\n",
       "      <td>NaN</td>\n",
       "    </tr>\n",
       "    <tr>\n",
       "      <th>2000-01-05</th>\n",
       "      <td>2000-01-05</td>\n",
       "      <td>BAJAUTOFIN</td>\n",
       "      <td>EQ</td>\n",
       "      <td>48.10</td>\n",
       "      <td>46.55</td>\n",
       "      <td>47.40</td>\n",
       "      <td>44.6</td>\n",
       "      <td>44.60</td>\n",
       "      <td>44.60</td>\n",
       "      <td>45.47</td>\n",
       "      <td>3500</td>\n",
       "      <td>1.591450e+10</td>\n",
       "      <td>NaN</td>\n",
       "      <td>NaN</td>\n",
       "      <td>NaN</td>\n",
       "    </tr>\n",
       "    <tr>\n",
       "      <th>2000-01-06</th>\n",
       "      <td>2000-01-06</td>\n",
       "      <td>BAJAUTOFIN</td>\n",
       "      <td>EQ</td>\n",
       "      <td>44.60</td>\n",
       "      <td>43.50</td>\n",
       "      <td>46.00</td>\n",
       "      <td>42.1</td>\n",
       "      <td>46.00</td>\n",
       "      <td>45.25</td>\n",
       "      <td>44.43</td>\n",
       "      <td>6200</td>\n",
       "      <td>2.754750e+10</td>\n",
       "      <td>NaN</td>\n",
       "      <td>NaN</td>\n",
       "      <td>NaN</td>\n",
       "    </tr>\n",
       "    <tr>\n",
       "      <th>2000-01-07</th>\n",
       "      <td>2000-01-07</td>\n",
       "      <td>BAJAUTOFIN</td>\n",
       "      <td>EQ</td>\n",
       "      <td>45.25</td>\n",
       "      <td>48.00</td>\n",
       "      <td>48.00</td>\n",
       "      <td>42.0</td>\n",
       "      <td>42.90</td>\n",
       "      <td>42.90</td>\n",
       "      <td>44.44</td>\n",
       "      <td>3500</td>\n",
       "      <td>1.555550e+10</td>\n",
       "      <td>NaN</td>\n",
       "      <td>NaN</td>\n",
       "      <td>NaN</td>\n",
       "    </tr>\n",
       "  </tbody>\n",
       "</table>\n",
       "</div>"
      ],
      "text/plain": [
       "                 Date      Symbol Series  Prev Close   Open   High   Low  \\\n",
       "Date                                                                       \n",
       "2000-01-03 2000-01-03  BAJAUTOFIN     EQ       46.95  49.45  50.75  46.5   \n",
       "2000-01-04 2000-01-04  BAJAUTOFIN     EQ       50.75  53.20  53.20  47.9   \n",
       "2000-01-05 2000-01-05  BAJAUTOFIN     EQ       48.10  46.55  47.40  44.6   \n",
       "2000-01-06 2000-01-06  BAJAUTOFIN     EQ       44.60  43.50  46.00  42.1   \n",
       "2000-01-07 2000-01-07  BAJAUTOFIN     EQ       45.25  48.00  48.00  42.0   \n",
       "\n",
       "             Last  Close   VWAP  Volume      Turnover  Trades  \\\n",
       "Date                                                            \n",
       "2000-01-03  50.75  50.75  50.05    7600  3.803800e+10     NaN   \n",
       "2000-01-04  48.00  48.10  48.56    5000  2.428000e+10     NaN   \n",
       "2000-01-05  44.60  44.60  45.47    3500  1.591450e+10     NaN   \n",
       "2000-01-06  46.00  45.25  44.43    6200  2.754750e+10     NaN   \n",
       "2000-01-07  42.90  42.90  44.44    3500  1.555550e+10     NaN   \n",
       "\n",
       "            Deliverable Volume  %Deliverble  \n",
       "Date                                         \n",
       "2000-01-03                 NaN          NaN  \n",
       "2000-01-04                 NaN          NaN  \n",
       "2000-01-05                 NaN          NaN  \n",
       "2000-01-06                 NaN          NaN  \n",
       "2000-01-07                 NaN          NaN  "
      ]
     },
     "execution_count": 33,
     "metadata": {},
     "output_type": "execute_result"
    }
   ],
   "source": [
    "df.head()"
   ]
  },
  {
   "cell_type": "code",
   "execution_count": 34,
   "metadata": {},
   "outputs": [
    {
     "name": "stdout",
     "output_type": "stream",
     "text": [
      "<class 'pandas.core.frame.DataFrame'>\n",
      "DatetimeIndex: 5113 entries, 2000-01-03 to 2020-10-30\n",
      "Data columns (total 15 columns):\n",
      " #   Column              Non-Null Count  Dtype         \n",
      "---  ------              --------------  -----         \n",
      " 0   Date                5113 non-null   datetime64[ns]\n",
      " 1   Symbol              5113 non-null   object        \n",
      " 2   Series              5113 non-null   object        \n",
      " 3   Prev Close          5113 non-null   float64       \n",
      " 4   Open                5113 non-null   float64       \n",
      " 5   High                5113 non-null   float64       \n",
      " 6   Low                 5113 non-null   float64       \n",
      " 7   Last                5113 non-null   float64       \n",
      " 8   Close               5113 non-null   float64       \n",
      " 9   VWAP                5113 non-null   float64       \n",
      " 10  Volume              5113 non-null   int64         \n",
      " 11  Turnover            5113 non-null   float64       \n",
      " 12  Trades              2334 non-null   float64       \n",
      " 13  Deliverable Volume  4667 non-null   float64       \n",
      " 14  %Deliverble         4667 non-null   float64       \n",
      "dtypes: datetime64[ns](1), float64(11), int64(1), object(2)\n",
      "memory usage: 639.1+ KB\n"
     ]
    }
   ],
   "source": [
    "df.info()"
   ]
  },
  {
   "cell_type": "code",
   "execution_count": 35,
   "metadata": {},
   "outputs": [],
   "source": [
    "training_set = df.iloc[:, 8:9].values"
   ]
  },
  {
   "cell_type": "code",
   "execution_count": 36,
   "metadata": {},
   "outputs": [
    {
     "data": {
      "text/plain": [
       "array([[  50.75],\n",
       "       [  48.1 ],\n",
       "       [  44.6 ],\n",
       "       ...,\n",
       "       [3370.8 ],\n",
       "       [3380.05],\n",
       "       [3309.  ]])"
      ]
     },
     "execution_count": 36,
     "metadata": {},
     "output_type": "execute_result"
    }
   ],
   "source": [
    "training_set\n"
   ]
  },
  {
   "cell_type": "code",
   "execution_count": 37,
   "metadata": {},
   "outputs": [],
   "source": [
    "from sklearn.preprocessing import MinMaxScaler\n",
    "sc = MinMaxScaler()\n",
    "training_set_scaled = sc.fit_transform(training_set)"
   ]
  },
  {
   "cell_type": "code",
   "execution_count": 38,
   "metadata": {
    "scrolled": true
   },
   "outputs": [],
   "source": [
    "\n",
    "train = training_set_scaled[:2300,:]\n",
    "\n",
    "test = training_set_scaled[3000:,:]"
   ]
  },
  {
   "cell_type": "code",
   "execution_count": 39,
   "metadata": {},
   "outputs": [
    {
     "name": "stdout",
     "output_type": "stream",
     "text": [
      "[0.00230895 0.00207586 0.001768   0.00182517 0.00161846 0.00161846\n",
      " 0.00137218 0.00127542 0.0013194  0.00135458 0.00129301 0.00121385\n",
      " 0.00148652 0.00162726 0.00162286 0.00136778 0.00116107 0.00127542\n",
      " 0.00124463 0.0011039  0.00101594 0.00116107 0.00111709 0.00118306\n",
      " 0.00125343 0.00124903 0.00152171 0.00181637 0.00213743 0.00179438\n",
      " 0.00148213 0.00133699 0.00148652 0.00143375 0.00136338 0.00120505\n",
      " 0.00138097 0.00159208 0.00142055 0.00143815 0.00120505 0.00135019\n",
      " 0.00120945 0.0010995  0.00086641 0.00080483 0.00101154 0.00083562\n",
      " 0.00099835 0.00096316 0.00076085 0.00099395 0.00123144 0.00096316\n",
      " 0.00098075 0.000884   0.00092358 0.000884   0.00094557 0.00091039]\n",
      "\n",
      "\n",
      "0.0009279783266483706\n"
     ]
    }
   ],
   "source": [
    "x_train = []\n",
    "y_train = []\n",
    "timestamp = 60\n",
    "length = len(train)\n",
    "for i in range(timestamp, length):\n",
    "    x_train.append(train[i-timestamp:i, 0])\n",
    "    y_train.append(train[i, 0])\n",
    "    \n",
    "x_train = np.array(x_train)\n",
    "y_train = np.array(y_train)\n",
    "print (x_train[0])\n",
    "print ('\\n')\n",
    "print (y_train[0])"
   ]
  },
  {
   "cell_type": "code",
   "execution_count": 40,
   "metadata": {},
   "outputs": [
    {
     "data": {
      "text/plain": [
       "(2240, 60)"
      ]
     },
     "execution_count": 40,
     "metadata": {},
     "output_type": "execute_result"
    }
   ],
   "source": [
    "x_train.shape"
   ]
  },
  {
   "cell_type": "code",
   "execution_count": 41,
   "metadata": {},
   "outputs": [
    {
     "data": {
      "text/plain": [
       "(2240, 60, 1)"
      ]
     },
     "execution_count": 41,
     "metadata": {},
     "output_type": "execute_result"
    }
   ],
   "source": [
    "x_train = np.reshape(x_train, (x_train.shape[0], x_train.shape[1], 1))\n",
    "x_train.shape"
   ]
  },
  {
   "cell_type": "code",
   "execution_count": 43,
   "metadata": {},
   "outputs": [],
   "source": [
    "x_train, X_val, y_train, y_val = train_test_split(x_train, y_train, test_size=0.2)"
   ]
  },
  {
   "cell_type": "code",
   "execution_count": 53,
   "metadata": {},
   "outputs": [],
   "source": [
    "from keras.models import Sequential\n",
    "from keras.layers import LSTM, Dense, Dropout\n",
    "\n",
    "model = Sequential()\n",
    "\n",
    "model.add(LSTM(units = 92, return_sequences = True, input_shape = (x_train.shape[1], 1)))\n",
    "model.add(Dropout(0.2))\n",
    "\n",
    "model.add(LSTM(units = 92, return_sequences = True))\n",
    "model.add(Dropout(0.2))\n",
    "\n",
    "model.add(LSTM(units = 92, return_sequences = True))\n",
    "model.add(Dropout(0.2))\n",
    "\n",
    "model.add(LSTM(units = 92, return_sequences = False))\n",
    "model.add(Dropout(0.2))\n",
    "\n",
    "model.add(Dense(units = 1))\n",
    "model.compile(optimizer = 'adam', loss = 'mean_squared_error')"
   ]
  },
  {
   "cell_type": "code",
   "execution_count": 54,
   "metadata": {},
   "outputs": [
    {
     "name": "stdout",
     "output_type": "stream",
     "text": [
      "Train on 1792 samples, validate on 448 samples\n",
      "Epoch 1/25\n",
      "1792/1792 [==============================] - 23s 13ms/step - loss: 6.9099e-05 - mean_squared_error: 6.9099e-05 - val_loss: 8.6604e-06 - val_mean_squared_error: 8.6604e-06\n",
      "Epoch 2/25\n",
      "1792/1792 [==============================] - 19s 11ms/step - loss: 9.8212e-06 - mean_squared_error: 9.8212e-06 - val_loss: 6.7308e-06 - val_mean_squared_error: 6.7308e-06\n",
      "Epoch 3/25\n",
      "1792/1792 [==============================] - 19s 11ms/step - loss: 8.9901e-06 - mean_squared_error: 8.9901e-06 - val_loss: 6.9104e-06 - val_mean_squared_error: 6.9104e-06\n",
      "Epoch 4/25\n",
      "1792/1792 [==============================] - 19s 11ms/step - loss: 1.1027e-05 - mean_squared_error: 1.1027e-05 - val_loss: 3.9240e-06 - val_mean_squared_error: 3.9240e-06\n",
      "Epoch 5/25\n",
      "1792/1792 [==============================] - 19s 11ms/step - loss: 7.4953e-06 - mean_squared_error: 7.4953e-06 - val_loss: 3.7466e-06 - val_mean_squared_error: 3.7466e-06\n",
      "Epoch 6/25\n",
      "1792/1792 [==============================] - 19s 11ms/step - loss: 7.4049e-06 - mean_squared_error: 7.4049e-06 - val_loss: 2.8216e-06 - val_mean_squared_error: 2.8216e-06\n",
      "Epoch 7/25\n",
      "1792/1792 [==============================] - 19s 11ms/step - loss: 6.6798e-06 - mean_squared_error: 6.6798e-06 - val_loss: 2.8681e-06 - val_mean_squared_error: 2.8681e-06\n",
      "Epoch 8/25\n",
      "1792/1792 [==============================] - 19s 11ms/step - loss: 9.8404e-06 - mean_squared_error: 9.8404e-06 - val_loss: 6.0088e-06 - val_mean_squared_error: 6.0088e-06\n",
      "Epoch 9/25\n",
      "1792/1792 [==============================] - 19s 11ms/step - loss: 8.6858e-06 - mean_squared_error: 8.6858e-06 - val_loss: 3.3751e-06 - val_mean_squared_error: 3.3751e-06\n",
      "Epoch 10/25\n",
      "1792/1792 [==============================] - 19s 11ms/step - loss: 7.2315e-06 - mean_squared_error: 7.2315e-06 - val_loss: 2.4581e-06 - val_mean_squared_error: 2.4581e-06\n",
      "Epoch 11/25\n",
      "1792/1792 [==============================] - 19s 11ms/step - loss: 7.1528e-06 - mean_squared_error: 7.1528e-06 - val_loss: 2.4396e-06 - val_mean_squared_error: 2.4396e-06\n",
      "Epoch 12/25\n",
      "1792/1792 [==============================] - 19s 11ms/step - loss: 7.2222e-06 - mean_squared_error: 7.2222e-06 - val_loss: 2.4081e-06 - val_mean_squared_error: 2.4081e-06\n",
      "Epoch 13/25\n",
      "1792/1792 [==============================] - 19s 11ms/step - loss: 7.0298e-06 - mean_squared_error: 7.0298e-06 - val_loss: 9.1666e-06 - val_mean_squared_error: 9.1666e-06\n",
      "Epoch 14/25\n",
      "1792/1792 [==============================] - 19s 10ms/step - loss: 6.0007e-06 - mean_squared_error: 6.0007e-06 - val_loss: 2.2710e-06 - val_mean_squared_error: 2.2710e-06\n",
      "Epoch 15/25\n",
      "1792/1792 [==============================] - 19s 10ms/step - loss: 6.0045e-06 - mean_squared_error: 6.0045e-06 - val_loss: 7.4048e-06 - val_mean_squared_error: 7.4048e-06\n",
      "Epoch 16/25\n",
      "1792/1792 [==============================] - 19s 10ms/step - loss: 5.6765e-06 - mean_squared_error: 5.6765e-06 - val_loss: 3.0245e-06 - val_mean_squared_error: 3.0245e-06\n",
      "Epoch 17/25\n",
      "1792/1792 [==============================] - 19s 10ms/step - loss: 5.7854e-06 - mean_squared_error: 5.7854e-06 - val_loss: 3.4531e-06 - val_mean_squared_error: 3.4531e-06\n",
      "Epoch 18/25\n",
      "1792/1792 [==============================] - 19s 10ms/step - loss: 6.0026e-06 - mean_squared_error: 6.0026e-06 - val_loss: 3.0598e-06 - val_mean_squared_error: 3.0598e-06\n",
      "Epoch 19/25\n",
      "1792/1792 [==============================] - 19s 10ms/step - loss: 6.3307e-06 - mean_squared_error: 6.3307e-06 - val_loss: 3.2776e-06 - val_mean_squared_error: 3.2776e-06\n",
      "Epoch 20/25\n",
      "1792/1792 [==============================] - 18s 10ms/step - loss: 5.7597e-06 - mean_squared_error: 5.7597e-06 - val_loss: 2.2467e-06 - val_mean_squared_error: 2.2467e-06\n",
      "Epoch 21/25\n",
      "1792/1792 [==============================] - 19s 10ms/step - loss: 4.8971e-06 - mean_squared_error: 4.8971e-06 - val_loss: 2.3027e-06 - val_mean_squared_error: 2.3027e-06\n",
      "Epoch 22/25\n",
      "1792/1792 [==============================] - 18s 10ms/step - loss: 7.1420e-06 - mean_squared_error: 7.1420e-06 - val_loss: 4.2018e-06 - val_mean_squared_error: 4.2018e-06\n",
      "Epoch 23/25\n",
      "1792/1792 [==============================] - 19s 10ms/step - loss: 5.7750e-06 - mean_squared_error: 5.7750e-06 - val_loss: 3.2077e-06 - val_mean_squared_error: 3.2077e-06\n",
      "Epoch 24/25\n",
      "1792/1792 [==============================] - 19s 11ms/step - loss: 4.5846e-06 - mean_squared_error: 4.5846e-06 - val_loss: 2.3503e-06 - val_mean_squared_error: 2.3503e-06\n",
      "Epoch 25/25\n",
      "1792/1792 [==============================] - 19s 11ms/step - loss: 5.6778e-06 - mean_squared_error: 5.6778e-06 - val_loss: 3.2158e-06 - val_mean_squared_error: 3.2158e-06\n"
     ]
    }
   ],
   "source": [
    "history = model.fit(x_train, y_train, epochs = 25, batch_size = 32,validation_data=(X_val, y_val))"
   ]
  },
  {
   "cell_type": "code",
   "execution_count": 55,
   "metadata": {},
   "outputs": [
    {
     "data": {
      "image/png": "[encoded data removed]",
      "text/plain": [
       "<Figure size 432x288 with 1 Axes>"
      ]
     },
     "metadata": {
      "needs_background": "light"
     },
     "output_type": "display_data"
    }
   ],
   "source": [
    "loss_train = history.history['loss']\n",
    "loss_val = history.history['val_loss']\n",
    "epochs = range(1,26)\n",
    "plt.plot(epochs, loss_train, 'g', label='Training loss')\n",
    "plt.plot(epochs, loss_val, 'b', label='validation loss')\n",
    "plt.title('Training and Validation loss')\n",
    "plt.xlabel('Epochs')\n",
    "plt.ylabel('Loss')\n",
    "plt.legend()\n",
    "plt.show()"
   ]
  },
  {
   "cell_type": "code",
   "execution_count": 20,
   "metadata": {},
   "outputs": [
    {
     "name": "stdout",
     "output_type": "stream",
     "text": [
      "Model: \"sequential_1\"\n",
      "_________________________________________________________________\n",
      "Layer (type)                 Output Shape              Param #   \n",
      "=================================================================\n",
      "lstm_1 (LSTM)                (None, 60, 92)            34592     \n",
      "_________________________________________________________________\n",
      "dropout_1 (Dropout)          (None, 60, 92)            0         \n",
      "_________________________________________________________________\n",
      "lstm_2 (LSTM)                (None, 60, 92)            68080     \n",
      "_________________________________________________________________\n",
      "dropout_2 (Dropout)          (None, 60, 92)            0         \n",
      "_________________________________________________________________\n",
      "lstm_3 (LSTM)                (None, 60, 92)            68080     \n",
      "_________________________________________________________________\n",
      "dropout_3 (Dropout)          (None, 60, 92)            0         \n",
      "_________________________________________________________________\n",
      "lstm_4 (LSTM)                (None, 92)                68080     \n",
      "_________________________________________________________________\n",
      "dropout_4 (Dropout)          (None, 92)                0         \n",
      "_________________________________________________________________\n",
      "dense_1 (Dense)              (None, 1)                 93        \n",
      "=================================================================\n",
      "Total params: 238,925\n",
      "Trainable params: 238,925\n",
      "Non-trainable params: 0\n",
      "_________________________________________________________________\n"
     ]
    }
   ],
   "source": [
    "model.summary()"
   ]
  },
  {
   "cell_type": "code",
   "execution_count": 21,
   "metadata": {},
   "outputs": [],
   "source": [
    "y_test = test[60:,:]"
   ]
  },
  {
   "cell_type": "code",
   "execution_count": 22,
   "metadata": {},
   "outputs": [
    {
     "data": {
      "text/plain": [
       "(2053, 60)"
      ]
     },
     "execution_count": 22,
     "metadata": {},
     "output_type": "execute_result"
    }
   ],
   "source": [
    "x_test = [] \n",
    "length = len(test)\n",
    "\n",
    "for i in range(timestamp, length):\n",
    "    x_test.append(test[i-timestamp:i, 0])\n",
    "    \n",
    "x_test = np.array(x_test)\n",
    "x_test.shape"
   ]
  },
  {
   "cell_type": "code",
   "execution_count": 23,
   "metadata": {},
   "outputs": [
    {
     "data": {
      "text/plain": [
       "(2053, 60, 1)"
      ]
     },
     "execution_count": 23,
     "metadata": {},
     "output_type": "execute_result"
    }
   ],
   "source": [
    "x_test = np.reshape(x_test, (x_test.shape[0], x_test.shape[1], 1))\n",
    "x_test.shape"
   ]
  },
  {
   "cell_type": "code",
   "execution_count": 24,
   "metadata": {},
   "outputs": [],
   "source": [
    "y_pred = model.predict(x_test)\n",
    "predicted_price = sc.inverse_transform(y_pred)\n",
    "y_test  = sc.inverse_transform(y_test)\n"
   ]
  },
  {
   "cell_type": "code",
   "execution_count": 25,
   "metadata": {},
   "outputs": [
    {
     "data": {
      "text/plain": [
       "(2053, 1)"
      ]
     },
     "execution_count": 25,
     "metadata": {},
     "output_type": "execute_result"
    }
   ],
   "source": [
    "predicted_price.shape"
   ]
  },
  {
   "cell_type": "code",
   "execution_count": 26,
   "metadata": {},
   "outputs": [],
   "source": [
    "predicted_price=predicted_price[0:800,:]\n",
    "y_test = y_test[0:800,:]"
   ]
  },
  {
   "cell_type": "code",
   "execution_count": 27,
   "metadata": {},
   "outputs": [
    {
     "data": {
      "text/plain": [
       "32367.028186883963"
      ]
     },
     "execution_count": 27,
     "metadata": {},
     "output_type": "execute_result"
    }
   ],
   "source": [
    "from sklearn.metrics import mean_squared_error\n",
    "mean_squared_error(y_test,predicted_price)"
   ]
  },
  {
   "cell_type": "code",
   "execution_count": 28,
   "metadata": {},
   "outputs": [
    {
     "data": {
      "text/plain": [
       "179.90838831717647"
      ]
     },
     "execution_count": 28,
     "metadata": {},
     "output_type": "execute_result"
    }
   ],
   "source": [
    "rms=np.sqrt(np.mean(np.power((y_test-predicted_price),2)))\n",
    "rms"
   ]
  },
  {
   "cell_type": "code",
   "execution_count": 29,
   "metadata": {},
   "outputs": [
    {
     "data": {
      "image/png": "[encoded data removed]",
      "text/plain": [
       "<Figure size 432x288 with 1 Axes>"
      ]
     },
     "metadata": {
      "needs_background": "light"
     },
     "output_type": "display_data"
    }
   ],
   "source": [
    "plt.title('LSTM Model prediction of bajaj finance trading')\n",
    "#plt.plot(y_train,color='green')\n",
    "plt.plot(y_test, color = 'blue', label = 'Actual Stock Price')\n",
    "plt.plot(predicted_price, color = 'red', label = 'Predicted Stock Price')\n",
    "plt.title('BAJAJ FINANCE Stock Price Prediction')\n",
    "plt.xlabel('Time{days}')\n",
    "plt.ylabel('Stock Price')\n",
    "plt.legend()\n",
    "plt.show()\n"
   ]
  },
  {
   "cell_type": "code",
   "execution_count": null,
   "metadata": {},
   "outputs": [],
   "source": []
  }
 ],
 "metadata": {
  "kernelspec": {
   "display_name": "Python 3",
   "language": "python",
   "name": "python3"
  },
  "language_info": {
   "codemirror_mode": {
    "name": "ipython",
    "version": 3
   },
   "file_extension": ".py",
   "mimetype": "text/x-python",
   "name": "python",
   "nbconvert_exporter": "python",
   "pygments_lexer": "ipython3",
   "version": "3.8.5"
  }
 },
 "nbformat": 4,
 "nbformat_minor": 4
}
