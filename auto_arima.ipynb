{
 "cells": [
  {
   "cell_type": "code",
   "execution_count": 1,
   "metadata": {},
   "outputs": [],
   "source": [
    "import pandas as pd\n",
    "import numpy as np\n",
    "from matplotlib import pyplot as plt\n",
    "from pmdarima.arima import auto_arima\n"
   ]
  },
  {
   "cell_type": "code",
   "execution_count": 3,
   "metadata": {},
   "outputs": [
    {
     "name": "stdout",
     "output_type": "stream",
     "text": [
      "\n",
      " Shape of the data:\n",
      "(5092, 15)\n"
     ]
    }
   ],
   "source": [
    "df = pd.read_csv(\"BAJFINANCE.csv\",sep=\",\")\n",
    "df.head()\n",
    "print('\\n Shape of the data:')\n",
    "print(df.shape)\n",
    "data = df.sort_index(ascending=True, axis=0)\n",
    "new_data = pd.DataFrame(index=range(0,len(df)),columns=['Close'])\n",
    "for i in range(0,len(data)):\n",
    "     new_data['Close'][i] = data['Close'][i]\n",
    "    "
   ]
  },
  {
   "cell_type": "code",
   "execution_count": 4,
   "metadata": {},
   "outputs": [
    {
     "data": {
      "text/html": [
       "<div>\n",
       "<style scoped>\n",
       "    .dataframe tbody tr th:only-of-type {\n",
       "        vertical-align: middle;\n",
       "    }\n",
       "\n",
       "    .dataframe tbody tr th {\n",
       "        vertical-align: top;\n",
       "    }\n",
       "\n",
       "    .dataframe thead th {\n",
       "        text-align: right;\n",
       "    }\n",
       "</style>\n",
       "<table border=\"1\" class=\"dataframe\">\n",
       "  <thead>\n",
       "    <tr style=\"text-align: right;\">\n",
       "      <th></th>\n",
       "      <th>Close</th>\n",
       "    </tr>\n",
       "  </thead>\n",
       "  <tbody>\n",
       "    <tr>\n",
       "      <th>0</th>\n",
       "      <td>50.75</td>\n",
       "    </tr>\n",
       "    <tr>\n",
       "      <th>1</th>\n",
       "      <td>48.1</td>\n",
       "    </tr>\n",
       "    <tr>\n",
       "      <th>2</th>\n",
       "      <td>44.6</td>\n",
       "    </tr>\n",
       "    <tr>\n",
       "      <th>3</th>\n",
       "      <td>45.25</td>\n",
       "    </tr>\n",
       "    <tr>\n",
       "      <th>4</th>\n",
       "      <td>42.9</td>\n",
       "    </tr>\n",
       "  </tbody>\n",
       "</table>\n",
       "</div>"
      ],
      "text/plain": [
       "   Close\n",
       "0  50.75\n",
       "1   48.1\n",
       "2   44.6\n",
       "3  45.25\n",
       "4   42.9"
      ]
     },
     "execution_count": 4,
     "metadata": {},
     "output_type": "execute_result"
    }
   ],
   "source": [
    "new_data.head()"
   ]
  },
  {
   "cell_type": "code",
   "execution_count": 5,
   "metadata": {},
   "outputs": [
    {
     "name": "stdout",
     "output_type": "stream",
     "text": [
      "\n",
      " Shape of training set:\n",
      "(800, 1)\n",
      "\n",
      " Shape of testing set:\n",
      "(150, 1)\n"
     ]
    }
   ],
   "source": [
    "# splitting into train and test\n",
    "train = new_data[2200:3000]\n",
    "test = new_data[3000:3150]\n",
    "# shapes of training set\n",
    "print('\\n Shape of training set:')\n",
    "print(train.shape)\n",
    "\n",
    "# shapes of test set\n",
    "print('\\n Shape of testing set:')\n",
    "print(test.shape)"
   ]
  },
  {
   "cell_type": "code",
   "execution_count": 6,
   "metadata": {},
   "outputs": [],
   "source": [
    "training = train['Close']\n",
    "testing = test['Close']"
   ]
  },
  {
   "cell_type": "code",
   "execution_count": 7,
   "metadata": {},
   "outputs": [
    {
     "name": "stdout",
     "output_type": "stream",
     "text": [
      "Performing stepwise search to minimize aic\n",
      " ARIMA(0,1,0)(0,1,0)[12]             : AIC=6608.765, Time=3.68 sec\n",
      " ARIMA(1,1,0)(1,1,0)[12]             : AIC=6394.803, Time=1.03 sec\n",
      " ARIMA(0,1,1)(0,1,1)[12]             : AIC=inf, Time=1.19 sec\n",
      " ARIMA(1,1,0)(0,1,0)[12]             : AIC=6609.490, Time=0.09 sec\n",
      " ARIMA(1,1,0)(2,1,0)[12]             : AIC=6287.153, Time=1.12 sec\n",
      " ARIMA(1,1,0)(3,1,0)[12]             : AIC=6240.479, Time=3.53 sec\n",
      " ARIMA(1,1,0)(4,1,0)[12]             : AIC=6196.291, Time=4.82 sec\n",
      " ARIMA(1,1,0)(5,1,0)[12]             : AIC=6172.450, Time=18.48 sec\n",
      " ARIMA(1,1,0)(5,1,1)[12]             : AIC=inf, Time=119.68 sec\n",
      " ARIMA(1,1,0)(4,1,1)[12]             : AIC=inf, Time=35.00 sec\n",
      " ARIMA(0,1,0)(5,1,0)[12]             : AIC=6174.764, Time=9.61 sec\n",
      " ARIMA(2,1,0)(5,1,0)[12]             : AIC=6173.745, Time=21.02 sec\n",
      " ARIMA(1,1,1)(5,1,0)[12]             : AIC=6177.725, Time=20.56 sec\n",
      " ARIMA(0,1,1)(5,1,0)[12]             : AIC=6172.182, Time=14.89 sec\n",
      " ARIMA(0,1,1)(4,1,0)[12]             : AIC=6196.155, Time=25.54 sec\n",
      " ARIMA(0,1,1)(5,1,1)[12]             : AIC=inf, Time=118.22 sec\n",
      " ARIMA(0,1,1)(4,1,1)[12]             : AIC=inf, Time=31.15 sec\n",
      " ARIMA(0,1,2)(5,1,0)[12]             : AIC=6173.585, Time=15.59 sec\n",
      " ARIMA(1,1,2)(5,1,0)[12]             : AIC=6175.489, Time=23.87 sec\n",
      " ARIMA(0,1,1)(5,1,0)[12] intercept   : AIC=6174.062, Time=59.86 sec\n",
      "\n",
      "Best model:  ARIMA(0,1,1)(5,1,0)[12]          \n",
      "Total fit time: 533.137 seconds\n"
     ]
    },
    {
     "data": {
      "text/plain": [
       "ARIMA(order=(0, 1, 1), scoring_args={}, seasonal_order=(5, 1, 0, 12),\n",
       "      suppress_warnings=True, with_intercept=False)"
      ]
     },
     "execution_count": 7,
     "metadata": {},
     "output_type": "execute_result"
    }
   ],
   "source": [
    "model = auto_arima(training,start_p=0,d=1,start_q=0,max_p=5,max_d=5,max_q=5,start_P=0,D=1,start_Q=0,max_P=5,max_D=5,max_Q=5,\n",
    "                   m=12,seasonal=True,trace=True,error_action='ignore',\n",
    "                   suppress_warnings=True)\n",
    "model.fit(training)\n"
   ]
  },
  {
   "cell_type": "code",
   "execution_count": 8,
   "metadata": {},
   "outputs": [],
   "source": [
    "forecast = model.predict(n_periods=150)\n",
    "forecast= pd.DataFrame(forecast,index=test.index,columns=['prediction'])"
   ]
  },
  {
   "cell_type": "code",
   "execution_count": 10,
   "metadata": {
    "scrolled": true
   },
   "outputs": [
    {
     "data": {
      "text/plain": [
       "117.96800885708316"
      ]
     },
     "execution_count": 10,
     "metadata": {},
     "output_type": "execute_result"
    }
   ],
   "source": [
    "rms=np.sqrt(np.mean(np.power((np.array(test['Close'])-np.array(forecast['prediction'])),2)))\n",
    "rms"
   ]
  },
  {
   "cell_type": "code",
   "execution_count": 11,
   "metadata": {
    "scrolled": true
   },
   "outputs": [
    {
     "data": {
      "image/png": "[encoded data removed]",
      "text/plain": [
       "<Figure size 432x288 with 1 Axes>"
      ]
     },
     "metadata": {
      "needs_background": "light"
     },
     "output_type": "display_data"
    }
   ],
   "source": [
    "#plot\n",
    "\n",
    "plt.title('Arima Model prediction of bajaj finance trading')\n",
    "#plt.plot(train['Close'])\n",
    "plt.plot(test['Close'],label='actual bajaj finance stock')\n",
    "plt.xlabel('Time')\n",
    "plt.ylabel('Bajaj finance stock')\n",
    "\n",
    "plt.plot(forecast['prediction'],label='predicted bajaj finance stock')\n",
    "plt.legend()\n",
    "plt.show()\n"
   ]
  },
  {
   "cell_type": "code",
   "execution_count": null,
   "metadata": {},
   "outputs": [],
   "source": []
  }
 ],
 "metadata": {
  "kernelspec": {
   "display_name": "Python 3",
   "language": "python",
   "name": "python3"
  },
  "language_info": {
   "codemirror_mode": {
    "name": "ipython",
    "version": 3
   },
   "file_extension": ".py",
   "mimetype": "text/x-python",
   "name": "python",
   "nbconvert_exporter": "python",
   "pygments_lexer": "ipython3",
   "version": "3.8.5"
  }
 },
 "nbformat": 4,
 "nbformat_minor": 4
}
